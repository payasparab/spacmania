{
 "cells": [
  {
   "cell_type": "code",
   "execution_count": 2,
   "metadata": {},
   "outputs": [],
   "source": [
    "from spac_db import SPAC_DB\n",
    "import pandas as pd"
   ]
  },
  {
   "cell_type": "code",
   "execution_count": 10,
   "metadata": {},
   "outputs": [
    {
     "name": "stderr",
     "output_type": "stream",
     "text": [
      "C:\\Users\\PayasParab\\Desktop\\personal_coding\\spacmania\\spac_db.py:183: SettingWithCopyWarning: modifications to a property of a datetimelike object are not supported and are discarded. Change values on the original.\n",
      "  _merge_announce[_merge_announce < 0] = 0 #adjustment to prevent lookahead bias\n",
      "C:\\Users\\PayasParab\\Anaconda3\\lib\\site-packages\\pandas\\core\\generic.py:9114: SettingWithCopyWarning: modifications to a property of a datetimelike object are not supported and are discarded. Change values on the original.\n",
      "  self._update_inplace(new_data)\n"
     ]
    }
   ],
   "source": [
    "sdb = SPAC_DB()\n",
    "sdb.create_key_db()"
   ]
  },
  {
   "cell_type": "code",
   "execution_count": 11,
   "metadata": {},
   "outputs": [
    {
     "data": {
      "text/plain": [
       "'\\nUnmerged - SPACS currently untraded \\n'"
      ]
     },
     "execution_count": 11,
     "metadata": {},
     "output_type": "execute_result"
    }
   ],
   "source": [
    "# Identify key databases available #\n",
    "sdb.key_db.keys()\n",
    "\n",
    "'''\n",
    "Unmerged - SPACS currently untraded \n",
    "'''"
   ]
  },
  {
   "cell_type": "code",
   "execution_count": 12,
   "metadata": {},
   "outputs": [
    {
     "data": {
      "text/plain": [
       "'Pull together volatility and returns profiles for key parts of SPAC lifecycle:\\n1. Unmerged\\n2. SPAC Announcements \\n3. SPAC Post-Merger'"
      ]
     },
     "execution_count": 12,
     "metadata": {},
     "output_type": "execute_result"
    }
   ],
   "source": [
    "'''Pull together volatility and returns profiles for key parts of SPAC lifecycle:\n",
    "1. Unmerged\n",
    "2. SPAC Announcements \n",
    "3. SPAC Post-Merger'''"
   ]
  },
  {
   "cell_type": "code",
   "execution_count": 50,
   "metadata": {},
   "outputs": [
    {
     "name": "stderr",
     "output_type": "stream",
     "text": [
      "C:\\Users\\PayasParab\\Anaconda3\\lib\\site-packages\\ipykernel_launcher.py:3: SettingWithCopyWarning: \n",
      "A value is trying to be set on a copy of a slice from a DataFrame.\n",
      "Try using .loc[row_indexer,col_indexer] = value instead\n",
      "\n",
      "See the caveats in the documentation: http://pandas.pydata.org/pandas-docs/stable/user_guide/indexing.html#returning-a-view-versus-a-copy\n",
      "  This is separate from the ipykernel package so we can avoid doing imports until\n",
      "C:\\Users\\PayasParab\\Anaconda3\\lib\\site-packages\\ipykernel_launcher.py:4: SettingWithCopyWarning: \n",
      "A value is trying to be set on a copy of a slice from a DataFrame.\n",
      "Try using .loc[row_indexer,col_indexer] = value instead\n",
      "\n",
      "See the caveats in the documentation: http://pandas.pydata.org/pandas-docs/stable/user_guide/indexing.html#returning-a-view-versus-a-copy\n",
      "  after removing the cwd from sys.path.\n"
     ]
    },
    {
     "data": {
      "text/html": [
       "<div>\n",
       "<style scoped>\n",
       "    .dataframe tbody tr th:only-of-type {\n",
       "        vertical-align: middle;\n",
       "    }\n",
       "\n",
       "    .dataframe tbody tr th {\n",
       "        vertical-align: top;\n",
       "    }\n",
       "\n",
       "    .dataframe thead th {\n",
       "        text-align: right;\n",
       "    }\n",
       "</style>\n",
       "<table border=\"1\" class=\"dataframe\">\n",
       "  <thead>\n",
       "    <tr style=\"text-align: right;\">\n",
       "      <th></th>\n",
       "      <th>adjClose</th>\n",
       "      <th>rets</th>\n",
       "      <th>volume</th>\n",
       "      <th>5_ewm_volume</th>\n",
       "      <th>21_ewm_volume</th>\n",
       "      <th>63_ewm_volume</th>\n",
       "      <th>name</th>\n",
       "      <th>ipo_date</th>\n",
       "      <th>industry</th>\n",
       "      <th>shares_outstanding</th>\n",
       "      <th>start_date</th>\n",
       "      <th>init_adj_price</th>\n",
       "      <th>market_cap</th>\n",
       "      <th>days_since_start</th>\n",
       "      <th>days_since_ipo</th>\n",
       "      <th>cum_rets</th>\n",
       "      <th>cum_vol</th>\n",
       "    </tr>\n",
       "    <tr>\n",
       "      <th>ticker</th>\n",
       "      <th></th>\n",
       "      <th></th>\n",
       "      <th></th>\n",
       "      <th></th>\n",
       "      <th></th>\n",
       "      <th></th>\n",
       "      <th></th>\n",
       "      <th></th>\n",
       "      <th></th>\n",
       "      <th></th>\n",
       "      <th></th>\n",
       "      <th></th>\n",
       "      <th></th>\n",
       "      <th></th>\n",
       "      <th></th>\n",
       "      <th></th>\n",
       "      <th></th>\n",
       "    </tr>\n",
       "  </thead>\n",
       "  <tbody>\n",
       "    <tr>\n",
       "      <th>AADI</th>\n",
       "      <td>26.91</td>\n",
       "      <td>-0.006278</td>\n",
       "      <td>50501.0</td>\n",
       "      <td>5.363241e+04</td>\n",
       "      <td>5.663436e+04</td>\n",
       "      <td>1.377463e+05</td>\n",
       "      <td>Aadi Biosciences, Inc.</td>\n",
       "      <td>2017-08-08</td>\n",
       "      <td>Biotechnology</td>\n",
       "      <td>20869341.0</td>\n",
       "      <td>2017-08-09</td>\n",
       "      <td>90</td>\n",
       "      <td>5.615940e+08</td>\n",
       "      <td>1539</td>\n",
       "      <td>1540</td>\n",
       "      <td>0.894594</td>\n",
       "      <td>0.022951</td>\n",
       "    </tr>\n",
       "    <tr>\n",
       "      <th>ACEL</th>\n",
       "      <td>12.05</td>\n",
       "      <td>0.018597</td>\n",
       "      <td>117761.0</td>\n",
       "      <td>1.075985e+05</td>\n",
       "      <td>1.211732e+05</td>\n",
       "      <td>1.514072e+05</td>\n",
       "      <td>Accel Entertainment, Inc.</td>\n",
       "      <td>1997-12-31</td>\n",
       "      <td>Gambling</td>\n",
       "      <td>93842962.0</td>\n",
       "      <td>2017-08-24</td>\n",
       "      <td>9.8</td>\n",
       "      <td>1.130808e+09</td>\n",
       "      <td>1524</td>\n",
       "      <td>8700</td>\n",
       "      <td>0.551995</td>\n",
       "      <td>0.022680</td>\n",
       "    </tr>\n",
       "    <tr>\n",
       "      <th>ACHR</th>\n",
       "      <td>6.33</td>\n",
       "      <td>0.014423</td>\n",
       "      <td>1221326.0</td>\n",
       "      <td>1.138419e+06</td>\n",
       "      <td>9.320894e+05</td>\n",
       "      <td>9.818242e+05</td>\n",
       "      <td>Archer Aviation Inc. Class A</td>\n",
       "      <td>2020-12-18</td>\n",
       "      <td>Aerospace &amp; Defense</td>\n",
       "      <td>0.0</td>\n",
       "      <td>2020-10-28</td>\n",
       "      <td>9.99</td>\n",
       "      <td>0.000000e+00</td>\n",
       "      <td>363</td>\n",
       "      <td>312</td>\n",
       "      <td>-0.361415</td>\n",
       "      <td>0.026814</td>\n",
       "    </tr>\n",
       "    <tr>\n",
       "      <th>ADN</th>\n",
       "      <td>8.82</td>\n",
       "      <td>-0.020000</td>\n",
       "      <td>204504.0</td>\n",
       "      <td>2.157953e+05</td>\n",
       "      <td>2.314542e+05</td>\n",
       "      <td>2.784739e+05</td>\n",
       "      <td>Advent Technologies Holdings, Inc. - Class A</td>\n",
       "      <td>2019-01-23</td>\n",
       "      <td>Utilities—Renewable</td>\n",
       "      <td>46128745.0</td>\n",
       "      <td>2018-11-16</td>\n",
       "      <td>10</td>\n",
       "      <td>4.068555e+08</td>\n",
       "      <td>1075</td>\n",
       "      <td>1007</td>\n",
       "      <td>0.118644</td>\n",
       "      <td>0.028562</td>\n",
       "    </tr>\n",
       "    <tr>\n",
       "      <th>ADV</th>\n",
       "      <td>8.42</td>\n",
       "      <td>0.025579</td>\n",
       "      <td>246799.0</td>\n",
       "      <td>2.396336e+05</td>\n",
       "      <td>2.658877e+05</td>\n",
       "      <td>3.651296e+05</td>\n",
       "      <td>Advantage Solutions Inc.  - Class A</td>\n",
       "      <td>1999-01-04</td>\n",
       "      <td>Advertising Agencies</td>\n",
       "      <td>318573562.0</td>\n",
       "      <td>2019-09-09</td>\n",
       "      <td>9.9</td>\n",
       "      <td>2.682389e+09</td>\n",
       "      <td>778</td>\n",
       "      <td>8331</td>\n",
       "      <td>-0.069819</td>\n",
       "      <td>0.018465</td>\n",
       "    </tr>\n",
       "    <tr>\n",
       "      <th>...</th>\n",
       "      <td>...</td>\n",
       "      <td>...</td>\n",
       "      <td>...</td>\n",
       "      <td>...</td>\n",
       "      <td>...</td>\n",
       "      <td>...</td>\n",
       "      <td>...</td>\n",
       "      <td>...</td>\n",
       "      <td>...</td>\n",
       "      <td>...</td>\n",
       "      <td>...</td>\n",
       "      <td>...</td>\n",
       "      <td>...</td>\n",
       "      <td>...</td>\n",
       "      <td>...</td>\n",
       "      <td>...</td>\n",
       "      <td>...</td>\n",
       "    </tr>\n",
       "    <tr>\n",
       "      <th>XELA</th>\n",
       "      <td>1.92</td>\n",
       "      <td>-0.154185</td>\n",
       "      <td>71212550.0</td>\n",
       "      <td>5.737248e+07</td>\n",
       "      <td>2.680038e+07</td>\n",
       "      <td>2.963124e+07</td>\n",
       "      <td>Exela Technologies Inc</td>\n",
       "      <td>2015-03-27</td>\n",
       "      <td>Software—Application</td>\n",
       "      <td>166196745.0</td>\n",
       "      <td>2015-03-27</td>\n",
       "      <td>29.4</td>\n",
       "      <td>3.190977e+08</td>\n",
       "      <td>2405</td>\n",
       "      <td>2405</td>\n",
       "      <td>1.177584</td>\n",
       "      <td>0.124838</td>\n",
       "    </tr>\n",
       "    <tr>\n",
       "      <th>XL</th>\n",
       "      <td>5.46</td>\n",
       "      <td>-0.014440</td>\n",
       "      <td>1712751.0</td>\n",
       "      <td>1.557535e+06</td>\n",
       "      <td>1.622489e+06</td>\n",
       "      <td>2.245617e+06</td>\n",
       "      <td>XL Fleet Corp. Class A</td>\n",
       "      <td>2019-09-03</td>\n",
       "      <td>Auto Parts</td>\n",
       "      <td>139366576.0</td>\n",
       "      <td>2019-07-12</td>\n",
       "      <td>10.11</td>\n",
       "      <td>7.609415e+08</td>\n",
       "      <td>837</td>\n",
       "      <td>784</td>\n",
       "      <td>0.021099</td>\n",
       "      <td>0.032512</td>\n",
       "    </tr>\n",
       "    <tr>\n",
       "      <th>XOS</th>\n",
       "      <td>4.42</td>\n",
       "      <td>-0.032823</td>\n",
       "      <td>735840.0</td>\n",
       "      <td>7.458871e+05</td>\n",
       "      <td>9.841870e+05</td>\n",
       "      <td>9.877728e+05</td>\n",
       "      <td>Xos, Inc.</td>\n",
       "      <td>2021-08-16</td>\n",
       "      <td>Farm &amp; Heavy Construction Machinery</td>\n",
       "      <td>162184621.0</td>\n",
       "      <td>2020-10-07</td>\n",
       "      <td>9.87</td>\n",
       "      <td>7.168560e+08</td>\n",
       "      <td>384</td>\n",
       "      <td>71</td>\n",
       "      <td>-0.630711</td>\n",
       "      <td>0.038773</td>\n",
       "    </tr>\n",
       "    <tr>\n",
       "      <th>YTRA</th>\n",
       "      <td>2.09</td>\n",
       "      <td>0.029557</td>\n",
       "      <td>213552.0</td>\n",
       "      <td>1.637440e+05</td>\n",
       "      <td>1.601585e+05</td>\n",
       "      <td>1.689388e+05</td>\n",
       "      <td>Yatra Online, Inc.</td>\n",
       "      <td>2016-12-19</td>\n",
       "      <td>Travel Services</td>\n",
       "      <td>57658361.0</td>\n",
       "      <td>2016-12-19</td>\n",
       "      <td>10</td>\n",
       "      <td>1.205060e+08</td>\n",
       "      <td>1772</td>\n",
       "      <td>1772</td>\n",
       "      <td>-0.553522</td>\n",
       "      <td>0.017919</td>\n",
       "    </tr>\n",
       "    <tr>\n",
       "      <th>ZEV</th>\n",
       "      <td>7.80</td>\n",
       "      <td>-0.005102</td>\n",
       "      <td>758028.0</td>\n",
       "      <td>5.565980e+05</td>\n",
       "      <td>8.071357e+05</td>\n",
       "      <td>2.257189e+06</td>\n",
       "      <td>Lightning eMotors, Inc</td>\n",
       "      <td>2020-07-02</td>\n",
       "      <td>Farm &amp; Heavy Construction Machinery</td>\n",
       "      <td>73580828.0</td>\n",
       "      <td>2020-05-14</td>\n",
       "      <td>9.91</td>\n",
       "      <td>5.739305e+08</td>\n",
       "      <td>530</td>\n",
       "      <td>481</td>\n",
       "      <td>0.292036</td>\n",
       "      <td>0.029429</td>\n",
       "    </tr>\n",
       "  </tbody>\n",
       "</table>\n",
       "<p>217 rows × 17 columns</p>\n",
       "</div>"
      ],
      "text/plain": [
       "        adjClose      rets      volume  5_ewm_volume  21_ewm_volume  \\\n",
       "ticker                                                                \n",
       "AADI       26.91 -0.006278     50501.0  5.363241e+04   5.663436e+04   \n",
       "ACEL       12.05  0.018597    117761.0  1.075985e+05   1.211732e+05   \n",
       "ACHR        6.33  0.014423   1221326.0  1.138419e+06   9.320894e+05   \n",
       "ADN         8.82 -0.020000    204504.0  2.157953e+05   2.314542e+05   \n",
       "ADV         8.42  0.025579    246799.0  2.396336e+05   2.658877e+05   \n",
       "...          ...       ...         ...           ...            ...   \n",
       "XELA        1.92 -0.154185  71212550.0  5.737248e+07   2.680038e+07   \n",
       "XL          5.46 -0.014440   1712751.0  1.557535e+06   1.622489e+06   \n",
       "XOS         4.42 -0.032823    735840.0  7.458871e+05   9.841870e+05   \n",
       "YTRA        2.09  0.029557    213552.0  1.637440e+05   1.601585e+05   \n",
       "ZEV         7.80 -0.005102    758028.0  5.565980e+05   8.071357e+05   \n",
       "\n",
       "        63_ewm_volume                                          name  \\\n",
       "ticker                                                                \n",
       "AADI     1.377463e+05                        Aadi Biosciences, Inc.   \n",
       "ACEL     1.514072e+05                     Accel Entertainment, Inc.   \n",
       "ACHR     9.818242e+05                  Archer Aviation Inc. Class A   \n",
       "ADN      2.784739e+05  Advent Technologies Holdings, Inc. - Class A   \n",
       "ADV      3.651296e+05           Advantage Solutions Inc.  - Class A   \n",
       "...               ...                                           ...   \n",
       "XELA     2.963124e+07                        Exela Technologies Inc   \n",
       "XL       2.245617e+06                        XL Fleet Corp. Class A   \n",
       "XOS      9.877728e+05                                     Xos, Inc.   \n",
       "YTRA     1.689388e+05                            Yatra Online, Inc.   \n",
       "ZEV      2.257189e+06                        Lightning eMotors, Inc   \n",
       "\n",
       "         ipo_date                             industry  shares_outstanding  \\\n",
       "ticker                                                                       \n",
       "AADI   2017-08-08                        Biotechnology          20869341.0   \n",
       "ACEL   1997-12-31                             Gambling          93842962.0   \n",
       "ACHR   2020-12-18                  Aerospace & Defense                 0.0   \n",
       "ADN    2019-01-23                  Utilities—Renewable          46128745.0   \n",
       "ADV    1999-01-04                 Advertising Agencies         318573562.0   \n",
       "...           ...                                  ...                 ...   \n",
       "XELA   2015-03-27                 Software—Application         166196745.0   \n",
       "XL     2019-09-03                           Auto Parts         139366576.0   \n",
       "XOS    2021-08-16  Farm & Heavy Construction Machinery         162184621.0   \n",
       "YTRA   2016-12-19                      Travel Services          57658361.0   \n",
       "ZEV    2020-07-02  Farm & Heavy Construction Machinery          73580828.0   \n",
       "\n",
       "       start_date init_adj_price    market_cap  days_since_start  \\\n",
       "ticker                                                             \n",
       "AADI   2017-08-09             90  5.615940e+08              1539   \n",
       "ACEL   2017-08-24            9.8  1.130808e+09              1524   \n",
       "ACHR   2020-10-28           9.99  0.000000e+00               363   \n",
       "ADN    2018-11-16             10  4.068555e+08              1075   \n",
       "ADV    2019-09-09            9.9  2.682389e+09               778   \n",
       "...           ...            ...           ...               ...   \n",
       "XELA   2015-03-27           29.4  3.190977e+08              2405   \n",
       "XL     2019-07-12          10.11  7.609415e+08               837   \n",
       "XOS    2020-10-07           9.87  7.168560e+08               384   \n",
       "YTRA   2016-12-19             10  1.205060e+08              1772   \n",
       "ZEV    2020-05-14           9.91  5.739305e+08               530   \n",
       "\n",
       "        days_since_ipo  cum_rets   cum_vol  \n",
       "ticker                                      \n",
       "AADI              1540  0.894594  0.022951  \n",
       "ACEL              8700  0.551995  0.022680  \n",
       "ACHR               312 -0.361415  0.026814  \n",
       "ADN               1007  0.118644  0.028562  \n",
       "ADV               8331 -0.069819  0.018465  \n",
       "...                ...       ...       ...  \n",
       "XELA              2405  1.177584  0.124838  \n",
       "XL                 784  0.021099  0.032512  \n",
       "XOS                 71 -0.630711  0.038773  \n",
       "YTRA              1772 -0.553522  0.017919  \n",
       "ZEV                481  0.292036  0.029429  \n",
       "\n",
       "[217 rows x 17 columns]"
      ]
     },
     "execution_count": 50,
     "metadata": {},
     "output_type": "execute_result"
    }
   ],
   "source": [
    "# 3 SPAC Returns and Vols Post Merger\n",
    "post_merge = sdb.key_db['completed'].query('days_since_ipo > 0')\n",
    "post_merge['cum_rets'] = post_merge.rets.unstack().cumsum().stack()\n",
    "post_merge['cum_vol'] = post_merge.rets.unstack().rolling(21).std().stack()\n",
    "post_merge.xs('2021-10-26', level='date')"
   ]
  },
  {
   "cell_type": "code",
   "execution_count": 58,
   "metadata": {},
   "outputs": [],
   "source": [
    "# Unmerged SPACS\n",
    "\n",
    "for rolling_volume in ['5_ewm_volume', '21_ewm_volume', '63_ewm_volume']:\n",
    "    sdb.key_db['unmerged']['day_volume_div_{}'.format(rolling_volume)] = sdb.key_db['unmerged'][rolling_volume]/sdb.key_db['unmerged']['volume']\n",
    "    \n",
    "feat_cols = [c for c in sdb.key_db['unmerged'] if 'volume_div' in c] + ['price_to_book', 'market_cap', 'days_since_ipo']\n",
    "X = sdb.key_db['unmerged'][feat_cols]\n",
    "y = sdb.key_db['unmerged']['rets']"
   ]
  },
  {
   "cell_type": "code",
   "execution_count": 83,
   "metadata": {},
   "outputs": [
    {
     "data": {
      "text/plain": [
       "-0.0001895350880225126"
      ]
     },
     "execution_count": 83,
     "metadata": {},
     "output_type": "execute_result"
    }
   ],
   "source": [
    "sdb.key_db['unmerged'].rets.mean()"
   ]
  },
  {
   "cell_type": "markdown",
   "metadata": {},
   "source": [
    "## Identifying the Pending Mergers Returns Characteristics Sweet Spot"
   ]
  },
  {
   "cell_type": "code",
   "execution_count": 105,
   "metadata": {},
   "outputs": [
    {
     "data": {
      "text/plain": [
       "days_since_merger_announced\n",
       "0.0      8438.0\n",
       "1.0        53.0\n",
       "2.0        39.0\n",
       "3.0        29.0\n",
       "4.0        31.0\n",
       "          ...  \n",
       "238.0       8.0\n",
       "239.0       8.0\n",
       "242.0       6.0\n",
       "245.0       7.0\n",
       "246.0       7.0\n",
       "Name: rets, Length: 234, dtype: float64"
      ]
     },
     "execution_count": 105,
     "metadata": {},
     "output_type": "execute_result"
    }
   ],
   "source": [
    "# Isolate to where lots of data exists for pending mergers so not get spurious results\n",
    "sdb.key_db['pending'].groupby('days_since_merger_announced').rets.count().where(lambda x: x > 5).dropna()"
   ]
  },
  {
   "cell_type": "code",
   "execution_count": 107,
   "metadata": {},
   "outputs": [
    {
     "data": {
      "text/plain": [
       "<matplotlib.axes._subplots.AxesSubplot at 0x23fcef95b70>"
      ]
     },
     "execution_count": 107,
     "metadata": {},
     "output_type": "execute_result"
    },
    {
     "data": {
      "image/png": "[encoded data removed]",
      "text/plain": [
       "<Figure size 432x288 with 1 Axes>"
      ]
     },
     "metadata": {
      "needs_background": "light"
     },
     "output_type": "display_data"
    }
   ],
   "source": [
    "# Goal Identify the time period where positive Returns are expected in pending mergers\n",
    "average_cum_rets = sdb.key_db['pending'].query('days_since_merger_announced > 0').query('days_since_merger_announced < 234').groupby('days_since_merger_announced').rets.mean().cumsum()\n",
    "average_cum_rets.plot()"
   ]
  },
  {
   "cell_type": "code",
   "execution_count": 110,
   "metadata": {},
   "outputs": [
    {
     "data": {
      "text/plain": [
       "<matplotlib.axes._subplots.AxesSubplot at 0x23fcf0a9518>"
      ]
     },
     "execution_count": 110,
     "metadata": {},
     "output_type": "execute_result"
    },
    {
     "data": {
      "image/png": "[encoded data removed]",
      "text/plain": [
       "<Figure size 432x288 with 1 Axes>"
      ]
     },
     "metadata": {
      "needs_background": "light"
     },
     "output_type": "display_data"
    }
   ],
   "source": [
    "# Goal: Identify the time period where positive Returns highly volatile in pending mergers\n",
    "average_cum_vol = sdb.key_db['pending'].query('days_since_merger_announced > 0').query('days_since_merger_announced < 234').groupby('days_since_merger_announced').rets.std()\n",
    "average_cum_vol.rolling(21).mean().plot()"
   ]
  },
  {
   "cell_type": "code",
   "execution_count": 152,
   "metadata": {},
   "outputs": [],
   "source": [
    "sweet_spot = sdb.key_db['pending'].query('days_since_merger_announced > 0').query('days_since_merger_announced < 75')"
   ]
  },
  {
   "cell_type": "code",
   "execution_count": 153,
   "metadata": {},
   "outputs": [],
   "source": [
    "d5_ret = sweet_spot.rets.unstack().rolling(21).sum().stack()\n",
    "d5_vol = sweet_spot.rets.unstack().rolling(21).std().stack()\n",
    "d5_sharpe = (d5_ret/d5_vol)*12"
   ]
  },
  {
   "cell_type": "code",
   "execution_count": 163,
   "metadata": {},
   "outputs": [
    {
     "data": {
      "text/html": [
       "<div>\n",
       "<style scoped>\n",
       "    .dataframe tbody tr th:only-of-type {\n",
       "        vertical-align: middle;\n",
       "    }\n",
       "\n",
       "    .dataframe tbody tr th {\n",
       "        vertical-align: top;\n",
       "    }\n",
       "\n",
       "    .dataframe thead th {\n",
       "        text-align: right;\n",
       "    }\n",
       "</style>\n",
       "<table border=\"1\" class=\"dataframe\">\n",
       "  <thead>\n",
       "    <tr style=\"text-align: right;\">\n",
       "      <th></th>\n",
       "      <th></th>\n",
       "      <th>adjClose</th>\n",
       "      <th>rets</th>\n",
       "      <th>volume</th>\n",
       "      <th>5_ewm_volume</th>\n",
       "      <th>21_ewm_volume</th>\n",
       "      <th>63_ewm_volume</th>\n",
       "      <th>name</th>\n",
       "      <th>ipo_date</th>\n",
       "      <th>industry</th>\n",
       "      <th>shares_outstanding</th>\n",
       "      <th>start_date</th>\n",
       "      <th>init_adj_price</th>\n",
       "      <th>market_cap</th>\n",
       "      <th>days_since_start</th>\n",
       "      <th>days_since_ipo</th>\n",
       "      <th>total_return</th>\n",
       "    </tr>\n",
       "    <tr>\n",
       "      <th>date</th>\n",
       "      <th>ticker</th>\n",
       "      <th></th>\n",
       "      <th></th>\n",
       "      <th></th>\n",
       "      <th></th>\n",
       "      <th></th>\n",
       "      <th></th>\n",
       "      <th></th>\n",
       "      <th></th>\n",
       "      <th></th>\n",
       "      <th></th>\n",
       "      <th></th>\n",
       "      <th></th>\n",
       "      <th></th>\n",
       "      <th></th>\n",
       "      <th></th>\n",
       "      <th></th>\n",
       "    </tr>\n",
       "  </thead>\n",
       "  <tbody>\n",
       "    <tr>\n",
       "      <th>2015-03-27</th>\n",
       "      <th>XELA</th>\n",
       "      <td>29.40</td>\n",
       "      <td>NaN</td>\n",
       "      <td>1.662983e+05</td>\n",
       "      <td>NaN</td>\n",
       "      <td>NaN</td>\n",
       "      <td>NaN</td>\n",
       "      <td>Exela Technologies Inc</td>\n",
       "      <td>2015-03-27</td>\n",
       "      <td>Software—Application</td>\n",
       "      <td>166196745.0</td>\n",
       "      <td>2015-03-27</td>\n",
       "      <td>29.4</td>\n",
       "      <td>4.886184e+09</td>\n",
       "      <td>0</td>\n",
       "      <td>0</td>\n",
       "      <td>0</td>\n",
       "    </tr>\n",
       "    <tr>\n",
       "      <th>2015-03-30</th>\n",
       "      <th>XELA</th>\n",
       "      <td>29.40</td>\n",
       "      <td>0.000000</td>\n",
       "      <td>0.000000e+00</td>\n",
       "      <td>6.651934e+04</td>\n",
       "      <td>NaN</td>\n",
       "      <td>NaN</td>\n",
       "      <td>Exela Technologies Inc</td>\n",
       "      <td>2015-03-27</td>\n",
       "      <td>Software—Application</td>\n",
       "      <td>166196745.0</td>\n",
       "      <td>2015-03-27</td>\n",
       "      <td>29.4</td>\n",
       "      <td>4.886184e+09</td>\n",
       "      <td>3</td>\n",
       "      <td>3</td>\n",
       "      <td>0</td>\n",
       "    </tr>\n",
       "    <tr>\n",
       "      <th>2015-03-31</th>\n",
       "      <th>XELA</th>\n",
       "      <td>29.40</td>\n",
       "      <td>0.000000</td>\n",
       "      <td>0.000000e+00</td>\n",
       "      <td>3.501018e+04</td>\n",
       "      <td>NaN</td>\n",
       "      <td>NaN</td>\n",
       "      <td>Exela Technologies Inc</td>\n",
       "      <td>2015-03-27</td>\n",
       "      <td>Software—Application</td>\n",
       "      <td>166196745.0</td>\n",
       "      <td>2015-03-27</td>\n",
       "      <td>29.4</td>\n",
       "      <td>4.886184e+09</td>\n",
       "      <td>4</td>\n",
       "      <td>4</td>\n",
       "      <td>0</td>\n",
       "    </tr>\n",
       "    <tr>\n",
       "      <th>2015-04-01</th>\n",
       "      <th>XELA</th>\n",
       "      <td>29.40</td>\n",
       "      <td>0.000000</td>\n",
       "      <td>0.000000e+00</td>\n",
       "      <td>2.046749e+04</td>\n",
       "      <td>NaN</td>\n",
       "      <td>NaN</td>\n",
       "      <td>Exela Technologies Inc</td>\n",
       "      <td>2015-03-27</td>\n",
       "      <td>Software—Application</td>\n",
       "      <td>166196745.0</td>\n",
       "      <td>2015-03-27</td>\n",
       "      <td>29.4</td>\n",
       "      <td>4.886184e+09</td>\n",
       "      <td>5</td>\n",
       "      <td>5</td>\n",
       "      <td>0</td>\n",
       "    </tr>\n",
       "    <tr>\n",
       "      <th>2015-04-02</th>\n",
       "      <th>XELA</th>\n",
       "      <td>29.43</td>\n",
       "      <td>0.001020</td>\n",
       "      <td>5.533278e+03</td>\n",
       "      <td>1.473445e+04</td>\n",
       "      <td>NaN</td>\n",
       "      <td>NaN</td>\n",
       "      <td>Exela Technologies Inc</td>\n",
       "      <td>2015-03-27</td>\n",
       "      <td>Software—Application</td>\n",
       "      <td>166196745.0</td>\n",
       "      <td>2015-03-27</td>\n",
       "      <td>29.4</td>\n",
       "      <td>4.891170e+09</td>\n",
       "      <td>6</td>\n",
       "      <td>6</td>\n",
       "      <td>0.00102041</td>\n",
       "    </tr>\n",
       "    <tr>\n",
       "      <th>...</th>\n",
       "      <th>...</th>\n",
       "      <td>...</td>\n",
       "      <td>...</td>\n",
       "      <td>...</td>\n",
       "      <td>...</td>\n",
       "      <td>...</td>\n",
       "      <td>...</td>\n",
       "      <td>...</td>\n",
       "      <td>...</td>\n",
       "      <td>...</td>\n",
       "      <td>...</td>\n",
       "      <td>...</td>\n",
       "      <td>...</td>\n",
       "      <td>...</td>\n",
       "      <td>...</td>\n",
       "      <td>...</td>\n",
       "      <td>...</td>\n",
       "    </tr>\n",
       "    <tr>\n",
       "      <th rowspan=\"5\" valign=\"top\">2021-10-26</th>\n",
       "      <th>XELA</th>\n",
       "      <td>1.92</td>\n",
       "      <td>-0.154185</td>\n",
       "      <td>7.121255e+07</td>\n",
       "      <td>5.737248e+07</td>\n",
       "      <td>2.680038e+07</td>\n",
       "      <td>2.963124e+07</td>\n",
       "      <td>Exela Technologies Inc</td>\n",
       "      <td>2015-03-27</td>\n",
       "      <td>Software—Application</td>\n",
       "      <td>166196745.0</td>\n",
       "      <td>2015-03-27</td>\n",
       "      <td>29.4</td>\n",
       "      <td>3.190977e+08</td>\n",
       "      <td>2405</td>\n",
       "      <td>2405</td>\n",
       "      <td>-0.934694</td>\n",
       "    </tr>\n",
       "    <tr>\n",
       "      <th>XL</th>\n",
       "      <td>5.46</td>\n",
       "      <td>-0.014440</td>\n",
       "      <td>1.712751e+06</td>\n",
       "      <td>1.557535e+06</td>\n",
       "      <td>1.622489e+06</td>\n",
       "      <td>2.245617e+06</td>\n",
       "      <td>XL Fleet Corp. Class A</td>\n",
       "      <td>2019-09-03</td>\n",
       "      <td>Auto Parts</td>\n",
       "      <td>139366576.0</td>\n",
       "      <td>2019-07-12</td>\n",
       "      <td>10.11</td>\n",
       "      <td>7.609415e+08</td>\n",
       "      <td>837</td>\n",
       "      <td>784</td>\n",
       "      <td>-0.459941</td>\n",
       "    </tr>\n",
       "    <tr>\n",
       "      <th>XOS</th>\n",
       "      <td>4.42</td>\n",
       "      <td>-0.032823</td>\n",
       "      <td>7.358400e+05</td>\n",
       "      <td>7.458871e+05</td>\n",
       "      <td>9.841870e+05</td>\n",
       "      <td>9.877728e+05</td>\n",
       "      <td>Xos, Inc.</td>\n",
       "      <td>2021-08-16</td>\n",
       "      <td>Farm &amp; Heavy Construction Machinery</td>\n",
       "      <td>162184621.0</td>\n",
       "      <td>2020-10-07</td>\n",
       "      <td>9.87</td>\n",
       "      <td>7.168560e+08</td>\n",
       "      <td>384</td>\n",
       "      <td>71</td>\n",
       "      <td>-0.552178</td>\n",
       "    </tr>\n",
       "    <tr>\n",
       "      <th>YTRA</th>\n",
       "      <td>2.09</td>\n",
       "      <td>0.029557</td>\n",
       "      <td>2.135520e+05</td>\n",
       "      <td>1.637440e+05</td>\n",
       "      <td>1.601585e+05</td>\n",
       "      <td>1.689388e+05</td>\n",
       "      <td>Yatra Online, Inc.</td>\n",
       "      <td>2016-12-19</td>\n",
       "      <td>Travel Services</td>\n",
       "      <td>57658361.0</td>\n",
       "      <td>2016-12-19</td>\n",
       "      <td>10</td>\n",
       "      <td>1.205060e+08</td>\n",
       "      <td>1772</td>\n",
       "      <td>1772</td>\n",
       "      <td>-0.791</td>\n",
       "    </tr>\n",
       "    <tr>\n",
       "      <th>ZEV</th>\n",
       "      <td>7.80</td>\n",
       "      <td>-0.005102</td>\n",
       "      <td>7.580280e+05</td>\n",
       "      <td>5.565980e+05</td>\n",
       "      <td>8.071357e+05</td>\n",
       "      <td>2.257189e+06</td>\n",
       "      <td>Lightning eMotors, Inc</td>\n",
       "      <td>2020-07-02</td>\n",
       "      <td>Farm &amp; Heavy Construction Machinery</td>\n",
       "      <td>73580828.0</td>\n",
       "      <td>2020-05-14</td>\n",
       "      <td>9.91</td>\n",
       "      <td>5.739305e+08</td>\n",
       "      <td>530</td>\n",
       "      <td>481</td>\n",
       "      <td>-0.212916</td>\n",
       "    </tr>\n",
       "  </tbody>\n",
       "</table>\n",
       "<p>111123 rows × 16 columns</p>\n",
       "</div>"
      ],
      "text/plain": [
       "                   adjClose      rets        volume  5_ewm_volume  \\\n",
       "date       ticker                                                   \n",
       "2015-03-27 XELA       29.40       NaN  1.662983e+05           NaN   \n",
       "2015-03-30 XELA       29.40  0.000000  0.000000e+00  6.651934e+04   \n",
       "2015-03-31 XELA       29.40  0.000000  0.000000e+00  3.501018e+04   \n",
       "2015-04-01 XELA       29.40  0.000000  0.000000e+00  2.046749e+04   \n",
       "2015-04-02 XELA       29.43  0.001020  5.533278e+03  1.473445e+04   \n",
       "...                     ...       ...           ...           ...   \n",
       "2021-10-26 XELA        1.92 -0.154185  7.121255e+07  5.737248e+07   \n",
       "           XL          5.46 -0.014440  1.712751e+06  1.557535e+06   \n",
       "           XOS         4.42 -0.032823  7.358400e+05  7.458871e+05   \n",
       "           YTRA        2.09  0.029557  2.135520e+05  1.637440e+05   \n",
       "           ZEV         7.80 -0.005102  7.580280e+05  5.565980e+05   \n",
       "\n",
       "                   21_ewm_volume  63_ewm_volume                    name  \\\n",
       "date       ticker                                                         \n",
       "2015-03-27 XELA              NaN            NaN  Exela Technologies Inc   \n",
       "2015-03-30 XELA              NaN            NaN  Exela Technologies Inc   \n",
       "2015-03-31 XELA              NaN            NaN  Exela Technologies Inc   \n",
       "2015-04-01 XELA              NaN            NaN  Exela Technologies Inc   \n",
       "2015-04-02 XELA              NaN            NaN  Exela Technologies Inc   \n",
       "...                          ...            ...                     ...   \n",
       "2021-10-26 XELA     2.680038e+07   2.963124e+07  Exela Technologies Inc   \n",
       "           XL       1.622489e+06   2.245617e+06  XL Fleet Corp. Class A   \n",
       "           XOS      9.841870e+05   9.877728e+05               Xos, Inc.   \n",
       "           YTRA     1.601585e+05   1.689388e+05      Yatra Online, Inc.   \n",
       "           ZEV      8.071357e+05   2.257189e+06  Lightning eMotors, Inc   \n",
       "\n",
       "                    ipo_date                             industry  \\\n",
       "date       ticker                                                   \n",
       "2015-03-27 XELA   2015-03-27                 Software—Application   \n",
       "2015-03-30 XELA   2015-03-27                 Software—Application   \n",
       "2015-03-31 XELA   2015-03-27                 Software—Application   \n",
       "2015-04-01 XELA   2015-03-27                 Software—Application   \n",
       "2015-04-02 XELA   2015-03-27                 Software—Application   \n",
       "...                      ...                                  ...   \n",
       "2021-10-26 XELA   2015-03-27                 Software—Application   \n",
       "           XL     2019-09-03                           Auto Parts   \n",
       "           XOS    2021-08-16  Farm & Heavy Construction Machinery   \n",
       "           YTRA   2016-12-19                      Travel Services   \n",
       "           ZEV    2020-07-02  Farm & Heavy Construction Machinery   \n",
       "\n",
       "                   shares_outstanding start_date init_adj_price    market_cap  \\\n",
       "date       ticker                                                               \n",
       "2015-03-27 XELA           166196745.0 2015-03-27           29.4  4.886184e+09   \n",
       "2015-03-30 XELA           166196745.0 2015-03-27           29.4  4.886184e+09   \n",
       "2015-03-31 XELA           166196745.0 2015-03-27           29.4  4.886184e+09   \n",
       "2015-04-01 XELA           166196745.0 2015-03-27           29.4  4.886184e+09   \n",
       "2015-04-02 XELA           166196745.0 2015-03-27           29.4  4.891170e+09   \n",
       "...                               ...        ...            ...           ...   \n",
       "2021-10-26 XELA           166196745.0 2015-03-27           29.4  3.190977e+08   \n",
       "           XL             139366576.0 2019-07-12          10.11  7.609415e+08   \n",
       "           XOS            162184621.0 2020-10-07           9.87  7.168560e+08   \n",
       "           YTRA            57658361.0 2016-12-19             10  1.205060e+08   \n",
       "           ZEV             73580828.0 2020-05-14           9.91  5.739305e+08   \n",
       "\n",
       "                   days_since_start  days_since_ipo total_return  \n",
       "date       ticker                                                 \n",
       "2015-03-27 XELA                   0               0            0  \n",
       "2015-03-30 XELA                   3               3            0  \n",
       "2015-03-31 XELA                   4               4            0  \n",
       "2015-04-01 XELA                   5               5            0  \n",
       "2015-04-02 XELA                   6               6   0.00102041  \n",
       "...                             ...             ...          ...  \n",
       "2021-10-26 XELA                2405            2405    -0.934694  \n",
       "           XL                   837             784    -0.459941  \n",
       "           XOS                  384              71    -0.552178  \n",
       "           YTRA                1772            1772       -0.791  \n",
       "           ZEV                  530             481    -0.212916  \n",
       "\n",
       "[111123 rows x 16 columns]"
      ]
     },
     "execution_count": 163,
     "metadata": {},
     "output_type": "execute_result"
    }
   ],
   "source": [
    "sdb.key_db['completed']['total_return'] = (sdb.key_db['completed']['adjClose']/ sdb.key_db['completed']['init_adj_price']) - 1\n",
    "sdb.key_db['completed']"
   ]
  },
  {
   "cell_type": "code",
   "execution_count": 182,
   "metadata": {},
   "outputs": [
    {
     "name": "stderr",
     "output_type": "stream",
     "text": [
      "C:\\Users\\PayasParab\\Anaconda3\\lib\\site-packages\\pandas\\io\\clipboards.py:117: FutureWarning: The signature of `Series.to_csv` was aligned to that of `DataFrame.to_csv`, and argument 'header' will change its default value from False to True: please pass an explicit value to suppress this warning.\n",
      "  obj.to_csv(buf, sep=sep, encoding=\"utf-8\", **kwargs)\n"
     ]
    }
   ],
   "source": [
    "sdb.key_db['completed'].query('date == \"2021-10-26\"').total_return.to_clipboard()"
   ]
  },
  {
   "cell_type": "code",
   "execution_count": 199,
   "metadata": {},
   "outputs": [
    {
     "data": {
      "text/plain": [
       "date        ticker\n",
       "2018-10-30  AADI      0.010046\n",
       "            ACEL      0.015440\n",
       "            AHCO      0.000000\n",
       "            ALTM      0.011465\n",
       "            BBCP      0.009417\n",
       "                        ...   \n",
       "2021-10-26  XELA      0.000911\n",
       "            XL        0.001864\n",
       "            XOS       0.001789\n",
       "            YTRA      0.000283\n",
       "            ZEV       0.001393\n",
       "Length: 98623, dtype: float64"
      ]
     },
     "execution_count": 199,
     "metadata": {},
     "output_type": "execute_result"
    }
   ],
   "source": [
    "# Rudimentary market cap weighting\n"
   ]
  },
  {
   "cell_type": "code",
   "execution_count": 245,
   "metadata": {},
   "outputs": [],
   "source": [
    "def calc_rets_by_trade_freq(freq):\n",
    "    tradable = sdb.key_db['completed'].query('date >= \"2018-10-26\"')\n",
    "    trade_weights = tradable.market_cap.unstack().shift(1).stack().groupby(['date']).apply(lambda x: x/(x.sum()))\n",
    "    \n",
    "    trade_dates = list(trade_weights.index.get_level_values('date').unique())\n",
    "    trade_exec_dates = [trade_dates[i] for i in range(len(trade_dates)) if (i%freq == 0)]\n",
    "    \n",
    "    trade_dates = list(trade_weights.index.get_level_values('date').unique())\n",
    "    trade_exec_dates = [trade_dates[i] for i in range(len(trade_dates)) if (i%freq == 0)]\n",
    "    \n",
    "    trade_weights_executed = trade_weights.reindex(trade_exec_dates, level='date')\n",
    "    realized_rets = tradable.adjClose.reindex(\n",
    "            trade_exec_dates, level='date'\n",
    "        ).unstack().pct_change(fill_method=None).shift(-1).stack()\n",
    "    weighted_rets = (trade_weights_executed * realized_rets).dropna()\n",
    "    return weighted_rets\n",
    "    \n",
    "    #return trade_exec_dates\n",
    "    "
   ]
  },
  {
   "cell_type": "code",
   "execution_count": 269,
   "metadata": {},
   "outputs": [
    {
     "data": {
      "text/plain": [
       "date\n",
       "2018-10-29   -0.000771\n",
       "2018-11-28   -0.001241\n",
       "2018-12-31    0.007244\n",
       "2019-01-31   -0.003601\n",
       "2019-03-04   -0.000034\n",
       "2019-04-02   -0.000058\n",
       "2019-05-02   -0.000503\n",
       "2019-06-03    0.000256\n",
       "2019-07-02   -0.000167\n",
       "2019-08-01   -0.000021\n",
       "2019-08-30   -0.000163\n",
       "2019-10-01   -0.000011\n",
       "2019-10-30    0.000149\n",
       "2019-11-29    0.000281\n",
       "2019-12-31    0.000553\n",
       "2020-01-31    0.000184\n",
       "2020-03-03   -0.001431\n",
       "2020-04-01    0.000905\n",
       "2020-05-01    0.001362\n",
       "2020-06-02    0.000907\n",
       "2020-07-01   -0.000459\n",
       "2020-07-31    0.000534\n",
       "2020-08-31    0.000389\n",
       "2020-09-30   -0.000549\n",
       "2020-10-29    0.001018\n",
       "2020-11-30    0.000721\n",
       "2020-12-30    0.000596\n",
       "2021-02-01   -0.000400\n",
       "2021-03-03   -0.000271\n",
       "2021-04-01   -0.000279\n",
       "2021-05-03    0.000259\n",
       "2021-06-02    0.000098\n",
       "2021-07-01   -0.000599\n",
       "2021-08-02   -0.000092\n",
       "2021-08-31   -0.000062\n",
       "dtype: float64"
      ]
     },
     "execution_count": 269,
     "metadata": {},
     "output_type": "execute_result"
    }
   ],
   "source": [
    "calc_rets_by_trade_freq(21).groupby('date').mean()"
   ]
  },
  {
   "cell_type": "code",
   "execution_count": 219,
   "metadata": {},
   "outputs": [
    {
     "data": {
      "text/plain": [
       "date        ticker\n",
       "2018-10-29  AADI      0.010313\n",
       "            ACEL      0.015262\n",
       "            AHCO      0.000000\n",
       "            ALTM      0.011266\n",
       "            BBCP      0.009286\n",
       "                        ...   \n",
       "2021-10-26  XELA      0.000911\n",
       "            XL        0.001864\n",
       "            XOS       0.001789\n",
       "            YTRA      0.000283\n",
       "            ZEV       0.001393\n",
       "Length: 32973, dtype: float64"
      ]
     },
     "execution_count": 219,
     "metadata": {},
     "output_type": "execute_result"
    }
   ],
   "source": [
    "freq = 3\n",
    "tradable = sdb.key_db['completed'].query('date >= \"2018-10-26\"')\n",
    "trade_weights = tradable.market_cap.unstack().shift(1).stack().groupby(['date']).apply(lambda x: x/(x.sum()))\n",
    "\n",
    "trade_dates = list(trade_weights.index.get_level_values('date').unique())\n",
    "trade_exec_dates = [trade_dates[i] for i in range(len(trade_dates)) if (i%freq == 0)]\n",
    "trade_weights.reindex(trade_exec_dates, level='date')"
   ]
  },
  {
   "cell_type": "code",
   "execution_count": 232,
   "metadata": {},
   "outputs": [
    {
     "data": {
      "text/plain": [
       "<matplotlib.axes._subplots.AxesSubplot at 0x23fcee7d780>"
      ]
     },
     "execution_count": 232,
     "metadata": {},
     "output_type": "execute_result"
    },
    {
     "data": {
      "image/png": "[encoded data removed]",
      "text/plain": [
       "<Figure size 432x288 with 1 Axes>"
      ]
     },
     "metadata": {
      "needs_background": "light"
     },
     "output_type": "display_data"
    }
   ],
   "source": [
    "(trade_weights.reindex(trade_exec_dates, level='date') * tradable.adjClose.reindex(trade_exec_dates, level='date').unstack().pct_change(fill_method=None).shift(-1).stack()).dropna().groupby('date').sum().cumsum().plot()"
   ]
  },
  {
   "cell_type": "code",
   "execution_count": 288,
   "metadata": {},
   "outputs": [
    {
     "data": {
      "text/plain": [
       "0.11846680687787858"
      ]
     },
     "execution_count": 288,
     "metadata": {},
     "output_type": "execute_result"
    }
   ],
   "source": [
    "sdb.key_db['completed'].xs('2021-10-26', level='date').total_return.mean()"
   ]
  },
  {
   "cell_type": "code",
   "execution_count": 285,
   "metadata": {},
   "outputs": [
    {
     "data": {
      "text/plain": [
       "12531502497.59443"
      ]
     },
     "execution_count": 285,
     "metadata": {},
     "output_type": "execute_result"
    }
   ],
   "source": []
  },
  {
   "cell_type": "code",
   "execution_count": null,
   "metadata": {},
   "outputs": [],
   "source": []
  }
 ],
 "metadata": {
  "kernelspec": {
   "display_name": "Python 3",
   "language": "python",
   "name": "python3"
  },
  "language_info": {
   "codemirror_mode": {
    "name": "ipython",
    "version": 3
   },
   "file_extension": ".py",
   "mimetype": "text/x-python",
   "name": "python",
   "nbconvert_exporter": "python",
   "pygments_lexer": "ipython3",
   "version": "3.7.3"
  }
 },
 "nbformat": 4,
 "nbformat_minor": 4
}
